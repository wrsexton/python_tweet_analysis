{
 "cells": [
  {
   "cell_type": "code",
   "execution_count": null,
   "metadata": {},
   "outputs": [],
   "source": [
    "#Create initial database from csv\n",
    "import csv, sqlite3\n",
    "\n",
    "con = sqlite3.connect(\"db/db_tweets.db\")\n",
    "cur = con.cursor()\n",
    "cur.execute(\"CREATE TABLE tweets (party, handle, tweet);\")\n",
    "\n",
    "with open('original_data/ExtractedTweets.csv','rt',encoding='utf-8') as fin:\n",
    "    dr = csv.DictReader(fin)\n",
    "    to_db = [(i['Party'], i['Handle'], i['Tweet']) for i in dr]\n",
    "\n",
    "cur.executemany(\"INSERT INTO tweets (party, handle, tweet) VALUES (?, ?, ?);\", to_db)\n",
    "con.commit()\n",
    "con.close()"
   ]
  },
  {
   "cell_type": "code",
   "execution_count": null,
   "metadata": {},
   "outputs": [],
   "source": [
    "# Print tweets from db\n",
    "import sqlite3\n",
    "\n",
    "conn = sqlite3.connect('db/db_tweets.db')\n",
    "cur = conn.cursor()\n",
    "\n",
    "def get_posts(x):\n",
    "    cur.execute(\"SELECT * FROM tweets\")\n",
    "    return cur.fetchmany(x)\n",
    "    \n",
    "def print_tweet(t):\n",
    "    print('\\n@{} [{}]\\n-----\\n{}\\n'.format(t[1], t[0], t[2]))\n",
    "\n",
    "for tweet in get_posts(10):\n",
    "    print_tweet(tweet)\n",
    "\n",
    "conn.close()"
   ]
  },
  {
   "cell_type": "code",
   "execution_count": null,
   "metadata": {},
   "outputs": [],
   "source": [
    "# Print tweets from db\n",
    "import sqlite3\n",
    "import re\n",
    "\n",
    "conn = sqlite3.connect('db/db_tweets.db')\n",
    "cur = conn.cursor()\n",
    "\n",
    "def analyze_mud_all():\n",
    "    cur.execute(\"SELECT * FROM tweets\")\n",
    "    get_mud(cur.fetchall())\n",
    "\n",
    "def analyze_mud(x):\n",
    "    cur.execute(\"SELECT * FROM tweets\")\n",
    "    get_mud(cur.fetchmany(x))\n",
    "    \n",
    "def get_mud(tweets):\n",
    "    mud_r = 0\n",
    "    mud_d = 0\n",
    "    for tweet in tweets:\n",
    "        party = tweet[0]\n",
    "        if party.upper() == 'DEMOCRAT':\n",
    "            mud_d += find_mud(tweet)\n",
    "        elif party.upper() == 'REPUBLICAN':\n",
    "            mud_r += find_mud(tweet)\n",
    "    print(\"\\n\\n---RESULTS---\\n\\nDEM MUD: {}\\nREP MUD: {}\".format(mud_d, mud_r))\n",
    "    \n",
    "def find_mud(t):\n",
    "    party = t[0]\n",
    "    username = t[1]\n",
    "    tweet = t[2]\n",
    "    regex = r\"\"\n",
    "    if party.upper() == 'DEMOCRAT':\n",
    "        regex = r\"(?!\\brepublic\\b)\\brepub+|\\bgop\\b|\\bconservative+|\\bright\\w*wing\\b\"\n",
    "    elif party.upper() == 'REPUBLICAN':\n",
    "        regex = r\"(?!\\bdemocracy\\b)\\bdem+|\\bdnc\\b|\\bliberal+|\\blibs+|\\bleft\\w*wing\\b\"\n",
    "    #return 1 if re.search(regex, tweet, re.I)\n",
    "    if(re.search(regex, tweet, re.I)):\n",
    "        print(\"\\n{}\\n -- {} [{}]\".format(tweet, username, party))\n",
    "        return 1\n",
    "    else:\n",
    "        return 0\n",
    "\n",
    "analyze_mud_all()\n",
    "\n",
    "conn.close()"
   ]
  }
 ],
 "metadata": {
  "kernelspec": {
   "display_name": "Python 3",
   "language": "python",
   "name": "python3"
  },
  "language_info": {
   "codemirror_mode": {
    "name": "ipython",
    "version": 3
   },
   "file_extension": ".py",
   "mimetype": "text/x-python",
   "name": "python",
   "nbconvert_exporter": "python",
   "pygments_lexer": "ipython3",
   "version": "3.7.0"
  }
 },
 "nbformat": 4,
 "nbformat_minor": 2
}
