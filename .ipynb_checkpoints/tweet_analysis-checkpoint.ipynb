{
 "cells": [
  {
   "cell_type": "code",
   "execution_count": 1,
   "metadata": {},
   "outputs": [],
   "source": [
    "#Create initial database from csv\n",
    "import csv, sqlite3\n",
    "\n",
    "con = sqlite3.connect(\"db/db_tweets.db\")\n",
    "cur = con.cursor()\n",
    "cur.execute(\"CREATE TABLE tweets (party, handle, tweet);\")\n",
    "\n",
    "with open('original_data/ExtractedTweets.csv','rt',encoding='utf-8') as fin:\n",
    "    dr = csv.DictReader(fin)\n",
    "    to_db = [(i['Party'], i['Handle'], i['Tweet']) for i in dr]\n",
    "\n",
    "cur.executemany(\"INSERT INTO tweets (party, handle, tweet) VALUES (?, ?, ?);\", to_db)\n",
    "con.commit()\n",
    "con.close()"
   ]
  },
  {
   "cell_type": "code",
   "execution_count": 12,
   "metadata": {},
   "outputs": [
    {
     "name": "stdout",
     "output_type": "stream",
     "text": [
      "\n",
      "@RepDarrenSoto [Democrat]\n",
      "-----\n",
      "Today, Senate Dems vote to #SaveTheInternet. Proud to support similar #NetNeutrality legislation here in the House… https://t.co/n3tggDLU1L\n",
      "\n",
      "\n",
      "@RepDarrenSoto [Democrat]\n",
      "-----\n",
      "RT @WinterHavenSun: Winter Haven resident / Alta Vista teacher is one of several recognized by @RepDarrenSoto for National Teacher Apprecia…\n",
      "\n",
      "\n",
      "@RepDarrenSoto [Democrat]\n",
      "-----\n",
      "RT @NBCLatino: .@RepDarrenSoto noted that Hurricane Maria has left approximately $90 billion in damages. \n",
      "\n",
      "Congress has allocated about $18…\n",
      "\n",
      "\n",
      "@RepDarrenSoto [Democrat]\n",
      "-----\n",
      "RT @NALCABPolicy: Meeting with @RepDarrenSoto . Thanks for taking the time to meet with @LatinoLeader ED Marucci Guzman. #NALCABPolicy2018.…\n",
      "\n",
      "\n",
      "@RepDarrenSoto [Democrat]\n",
      "-----\n",
      "RT @Vegalteno: Hurricane season starts on June 1st; Puerto Rico’s readiness...well 🤦🏼‍♂️😡😩@Pwr4PuertoRico @RepDarrenSoto @EspaillatNY\n",
      "\n",
      "\n",
      "@RepDarrenSoto [Democrat]\n",
      "-----\n",
      "RT @EmgageActionFL: Thank you to all who came out to our Orlando gala! It was a successful night that would not have been possible without…\n",
      "\n",
      "\n",
      "@RepDarrenSoto [Democrat]\n",
      "-----\n",
      "Hurricane Maria left approx $90 billion in damages, yet only $1 billion was allocated for rebuilding grid. No surpr… https://t.co/2kU8BcKwUh\n",
      "\n",
      "\n",
      "@RepDarrenSoto [Democrat]\n",
      "-----\n",
      "RT @Tharryry: I am delighted that @RepDarrenSoto will be voting for the CRA to overrule the FCC and save our #NetNeutrality rules. Find out…\n",
      "\n",
      "\n",
      "@RepDarrenSoto [Democrat]\n",
      "-----\n",
      "RT @HispanicCaucus: Trump's anti-immigrant policies are hurting small businesses across the country that can’t find Americans willing to do…\n",
      "\n",
      "\n",
      "@RepDarrenSoto [Democrat]\n",
      "-----\n",
      "RT @RepStephMurphy: Great joining @WeAreUnidosUS and @RepDarrenSoto for a roundtable in #Orlando on federal issues affecting central Florid…\n",
      "\n"
     ]
    }
   ],
   "source": [
    "# Print tweets from db\n",
    "import sqlite3\n",
    "\n",
    "conn = sqlite3.connect('db/db_tweets.db')\n",
    "cur = conn.cursor()\n",
    "\n",
    "def get_posts(x):\n",
    "    cur.execute(\"SELECT * FROM tweets\")\n",
    "    return cur.fetchmany(x)\n",
    "    \n",
    "def print_tweet(t):\n",
    "    print('\\n@{} [{}]\\n-----\\n{}\\n'.format(t[1], t[0], t[2]))\n",
    "\n",
    "for tweet in get_posts(10):\n",
    "    print_tweet(tweet)\n",
    "\n",
    "con.close()"
   ]
  },
  {
   "cell_type": "code",
   "execution_count": null,
   "metadata": {},
   "outputs": [],
   "source": [
    "# Manipulate tweets\n",
    "import sqlite3\n",
    "\n",
    "conn = sqlite3.connect('db/db_tweets.db')\n",
    "cur = conn.cursor()\n",
    "\n",
    "# def get_posts(x):\n",
    "#     cur.execute(\"SELECT * FROM tweets\")\n",
    "#     for tweet in cur.fetchmany(x):\n",
    "#         print_tweet(tweet)\n",
    "    \n",
    "# def print_tweet(t):\n",
    "#     print('\\n@{} [{}]\\n-----\\n{}\\n'.format(t[1], t[0], t[2]))\n",
    "\n",
    "# get_posts(10)\n",
    "con.close()"
   ]
  }
 ],
 "metadata": {
  "kernelspec": {
   "display_name": "Python 3",
   "language": "python",
   "name": "python3"
  },
  "language_info": {
   "codemirror_mode": {
    "name": "ipython",
    "version": 3
   },
   "file_extension": ".py",
   "mimetype": "text/x-python",
   "name": "python",
   "nbconvert_exporter": "python",
   "pygments_lexer": "ipython3",
   "version": "3.7.0"
  }
 },
 "nbformat": 4,
 "nbformat_minor": 2
}
